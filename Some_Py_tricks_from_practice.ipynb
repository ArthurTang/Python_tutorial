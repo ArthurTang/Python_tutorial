{
 "cells": [
  {
   "cell_type": "markdown",
   "metadata": {},
   "source": [
    "## This notebook records some of the tricks I have learnt from work and study with Python"
   ]
  },
  {
   "cell_type": "markdown",
   "metadata": {},
   "source": [
    "## String manipulation"
   ]
  },
  {
   "cell_type": "code",
   "execution_count": 1,
   "metadata": {},
   "outputs": [],
   "source": [
    "import pandas as pd\n",
    "import numpy as np"
   ]
  },
  {
   "cell_type": "code",
   "execution_count": 7,
   "metadata": {},
   "outputs": [
    {
     "data": {
      "text/html": [
       "<div>\n",
       "<style scoped>\n",
       "    .dataframe tbody tr th:only-of-type {\n",
       "        vertical-align: middle;\n",
       "    }\n",
       "\n",
       "    .dataframe tbody tr th {\n",
       "        vertical-align: top;\n",
       "    }\n",
       "\n",
       "    .dataframe thead th {\n",
       "        text-align: right;\n",
       "    }\n",
       "</style>\n",
       "<table border=\"1\" class=\"dataframe\">\n",
       "  <thead>\n",
       "    <tr style=\"text-align: right;\">\n",
       "      <th></th>\n",
       "      <th>VEH_INFO</th>\n",
       "      <th>Value</th>\n",
       "    </tr>\n",
       "  </thead>\n",
       "  <tbody>\n",
       "    <tr>\n",
       "      <th>0</th>\n",
       "      <td>Coupe XP 4S</td>\n",
       "      <td>100</td>\n",
       "    </tr>\n",
       "    <tr>\n",
       "      <th>1</th>\n",
       "      <td>Sedan XLT 4cylinder</td>\n",
       "      <td>200</td>\n",
       "    </tr>\n",
       "    <tr>\n",
       "      <th>2</th>\n",
       "      <td>PICKUP EXTRA</td>\n",
       "      <td>300</td>\n",
       "    </tr>\n",
       "    <tr>\n",
       "      <th>3</th>\n",
       "      <td>SEDAN XL LT</td>\n",
       "      <td>400</td>\n",
       "    </tr>\n",
       "    <tr>\n",
       "      <th>4</th>\n",
       "      <td>COUPE 4_cyl SE</td>\n",
       "      <td>500</td>\n",
       "    </tr>\n",
       "    <tr>\n",
       "      <th>5</th>\n",
       "      <td>pickup XST</td>\n",
       "      <td>600</td>\n",
       "    </tr>\n",
       "    <tr>\n",
       "      <th>6</th>\n",
       "      <td>Wagon SET 4wd</td>\n",
       "      <td>700</td>\n",
       "    </tr>\n",
       "  </tbody>\n",
       "</table>\n",
       "</div>"
      ],
      "text/plain": [
       "              VEH_INFO  Value\n",
       "0          Coupe XP 4S    100\n",
       "1  Sedan XLT 4cylinder    200\n",
       "2         PICKUP EXTRA    300\n",
       "3          SEDAN XL LT    400\n",
       "4       COUPE 4_cyl SE    500\n",
       "5           pickup XST    600\n",
       "6        Wagon SET 4wd    700"
      ]
     },
     "execution_count": 7,
     "metadata": {},
     "output_type": "execute_result"
    }
   ],
   "source": [
    "P_df = pd.DataFrame({'VEH_INFO' : ['Coupe XP 4S','Sedan XLT 4cylinder','PICKUP EXTRA','SEDAN XL LT','COUPE 4_cyl SE','pickup XST','Wagon SET 4wd'], 'Value':[100,200,300,400,500,600,700]})\n",
    "P_df"
   ]
  },
  {
   "cell_type": "code",
   "execution_count": 8,
   "metadata": {},
   "outputs": [],
   "source": [
    "# I wanted to find out the vehicle style of each obervation, either coupe, or sedan or pickup or something else\n"
   ]
  },
  {
   "cell_type": "code",
   "execution_count": 9,
   "metadata": {},
   "outputs": [],
   "source": [
    "# Define a function to identify if a keyword is contained:\n",
    "def VEH_STYLE_FN(DAT):\n",
    "    DAT = pd.Series(DAT)\n",
    "    if int(DAT.str.contains('COUPE')) ==1:\n",
    "        return('COUPE')\n",
    "    if int(DAT.str.contains('PICKUP')) ==1:\n",
    "        return('PICKUP')\n",
    "    if int(DAT.str.contains('SEDAN')) ==1:\n",
    "        return('SEDAN')\n",
    "    else: return('OTHERS')\n",
    "\n"
   ]
  },
  {
   "cell_type": "code",
   "execution_count": 11,
   "metadata": {},
   "outputs": [
    {
     "data": {
      "text/html": [
       "<div>\n",
       "<style scoped>\n",
       "    .dataframe tbody tr th:only-of-type {\n",
       "        vertical-align: middle;\n",
       "    }\n",
       "\n",
       "    .dataframe tbody tr th {\n",
       "        vertical-align: top;\n",
       "    }\n",
       "\n",
       "    .dataframe thead th {\n",
       "        text-align: right;\n",
       "    }\n",
       "</style>\n",
       "<table border=\"1\" class=\"dataframe\">\n",
       "  <thead>\n",
       "    <tr style=\"text-align: right;\">\n",
       "      <th></th>\n",
       "      <th>VEH_INFO</th>\n",
       "      <th>Value</th>\n",
       "      <th>STYLE</th>\n",
       "    </tr>\n",
       "  </thead>\n",
       "  <tbody>\n",
       "    <tr>\n",
       "      <th>0</th>\n",
       "      <td>Coupe XP 4S</td>\n",
       "      <td>100</td>\n",
       "      <td>COUPE</td>\n",
       "    </tr>\n",
       "    <tr>\n",
       "      <th>1</th>\n",
       "      <td>Sedan XLT 4cylinder</td>\n",
       "      <td>200</td>\n",
       "      <td>SEDAN</td>\n",
       "    </tr>\n",
       "    <tr>\n",
       "      <th>2</th>\n",
       "      <td>PICKUP EXTRA</td>\n",
       "      <td>300</td>\n",
       "      <td>PICKUP</td>\n",
       "    </tr>\n",
       "    <tr>\n",
       "      <th>3</th>\n",
       "      <td>SEDAN XL LT</td>\n",
       "      <td>400</td>\n",
       "      <td>SEDAN</td>\n",
       "    </tr>\n",
       "    <tr>\n",
       "      <th>4</th>\n",
       "      <td>COUPE 4_cyl SE</td>\n",
       "      <td>500</td>\n",
       "      <td>COUPE</td>\n",
       "    </tr>\n",
       "    <tr>\n",
       "      <th>5</th>\n",
       "      <td>pickup XST</td>\n",
       "      <td>600</td>\n",
       "      <td>PICKUP</td>\n",
       "    </tr>\n",
       "    <tr>\n",
       "      <th>6</th>\n",
       "      <td>Wagon SET 4wd</td>\n",
       "      <td>700</td>\n",
       "      <td>OTHERS</td>\n",
       "    </tr>\n",
       "  </tbody>\n",
       "</table>\n",
       "</div>"
      ],
      "text/plain": [
       "              VEH_INFO  Value   STYLE\n",
       "0          Coupe XP 4S    100   COUPE\n",
       "1  Sedan XLT 4cylinder    200   SEDAN\n",
       "2         PICKUP EXTRA    300  PICKUP\n",
       "3          SEDAN XL LT    400   SEDAN\n",
       "4       COUPE 4_cyl SE    500   COUPE\n",
       "5           pickup XST    600  PICKUP\n",
       "6        Wagon SET 4wd    700  OTHERS"
      ]
     },
     "execution_count": 11,
     "metadata": {},
     "output_type": "execute_result"
    }
   ],
   "source": [
    "P_df['STYLE'] = P_df['VEH_INFO'].str.split(' ').apply(lambda x: str(x).upper()).apply(lambda x: VEH_STYLE_FN(x))\n",
    "P_df"
   ]
  },
  {
   "cell_type": "code",
   "execution_count": null,
   "metadata": {},
   "outputs": [],
   "source": []
  }
 ],
 "metadata": {
  "kernelspec": {
   "display_name": "Python 3",
   "language": "python",
   "name": "python3"
  },
  "language_info": {
   "codemirror_mode": {
    "name": "ipython",
    "version": 3
   },
   "file_extension": ".py",
   "mimetype": "text/x-python",
   "name": "python",
   "nbconvert_exporter": "python",
   "pygments_lexer": "ipython3",
   "version": "3.8.5"
  }
 },
 "nbformat": 4,
 "nbformat_minor": 4
}
